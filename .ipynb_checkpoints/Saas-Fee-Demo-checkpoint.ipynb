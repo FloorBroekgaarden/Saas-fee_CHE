{
 "cells": [
  {
   "cell_type": "markdown",
   "id": "3a49816e",
   "metadata": {},
   "source": [
    "<div class=\"alert alert-block alert-info\">\n",
    "\n",
    "    \n",
    "# Saas Fee Gravitational Wave School: Formation channels of Gravitational Waves (GWs)\n",
    "    \n",
    "In this jupyter notebook we will walk through and re-create some of the figures from https://arxiv.org/pdf/2010.00002.pdf on **Chemically Homogeneous Evolution** by Jeff Riley. <br>\n",
    "\n",
    "\n",
    "\n",
    "Notebook by Floor Broekgaarden and Ilya Mandel <br>\n",
    "<br>\n",
    "\n",
    "The original data can be found on Zenodo https://zenodo.org/record/5595426 <br>\n",
    "\n",
    "___\n",
    "\n",
    "\n"
   ]
  },
  {
   "cell_type": "markdown",
   "id": "1b03e97e",
   "metadata": {},
   "source": [
    "<div class=\"alert alert-block alert-warning\">\n",
    "    \n",
    "### Definitions: \n",
    "    \n",
    "    \n",
    " - CHE: Chemically Homogeneous Evolution, \n",
    " - GW: Gravitational Waves \n",
    " - DCO: Double Compact Object \n",
    " - BH: Black Hole\n",
    " - NS: Neutron Star"
   ]
  },
  {
   "cell_type": "code",
   "execution_count": 1,
   "id": "c5865325",
   "metadata": {},
   "outputs": [],
   "source": [
    "# first we will import some of the packages that we will use \n",
    "\n",
    "import h5py as h5\n",
    "import numpy as np\n",
    "import os\n",
    "import matplotlib.pyplot as plt\n",
    "\n",
    "\n",
    "from astropy import units as u\n",
    "from astropy import constants as const"
   ]
  },
  {
   "cell_type": "code",
   "execution_count": 2,
   "id": "a41e349b",
   "metadata": {},
   "outputs": [
    {
     "name": "stdout",
     "output_type": "stream",
     "text": [
      "<KeysViewHDF5 ['CommonEnvelopes', 'DoubleCompactObjects', 'Supernovae', 'SystemParameters']>\n"
     ]
    }
   ],
   "source": [
    "\n",
    "# add path to where the COMPASOutput.h5 file is stored. \n",
    "# For you the part '/Volumes/Andromeda/DATA/AllDCO_bugfix/fiducial/' is probably different\n",
    "path = '/Volumes/Andromeda/SAAS-FEE_CHE/COMPAS_Output.h5' # change this line! \n",
    "\n",
    "\n",
    "# the following line reads in the data \n",
    "fdata = h5.File(path)\n",
    "print(fdata.keys())  # print the different files within the hdf5 folder: "
   ]
  },
  {
   "cell_type": "markdown",
   "id": "cd6a7e03",
   "metadata": {},
   "source": [
    "<div class=\"alert alert-block alert-success\"> \n",
    "\n",
    "\n",
    "the files above 'CommonEnvelopes', 'DoubleCompactObjects', 'Supernovae', 'SystemParameters' store the properties of the simulated binaries at the stages of the 'commen enevelope' (in case there is one), the moment of double object formation, the moment of the supernova, and the initial conditions (at the zero-age main sequence).\n",
    "\n",
    "#### We can view what parameters are stored by again using the command .keys()\n",
    "    \n",
    "    \n",
    "</div>"
   ]
  },
  {
   "cell_type": "code",
   "execution_count": 3,
   "id": "642b43e9",
   "metadata": {},
   "outputs": [
    {
     "name": "stdout",
     "output_type": "stream",
     "text": [
      "<KeysViewHDF5 ['Coalescence_Time', 'Eccentricity@DCO', 'MT_Case_1', 'MT_Case_2', 'Mass_1', 'Mass_2', 'Merges_Hubble_Time', 'Recycled_NS_1', 'Recycled_NS_2', 'SEED', 'Separation@DCO', 'Stellar_Type_1', 'Stellar_Type_2', 'Time']>\n",
      "\n",
      "<KeysViewHDF5 ['CE_Alpha', 'CH_on_MS_1', 'CH_on_MS_2', 'Eccentricity@ZAMS', 'Equilibrated', 'Equilibrated_At_Birth', 'Error', 'Experienced_RLOF_1', 'Experienced_RLOF_2', 'Experienced_SN_Type_1', 'Experienced_SN_Type_2', 'LBV_Multiplier', 'LBV_Phase_Flag_1', 'LBV_Phase_Flag_2', 'Mass@ZAMS_1', 'Mass@ZAMS_2', 'Merger', 'Merger_At_Birth', 'Metallicity@ZAMS_1', 'Metallicity@ZAMS_2', 'Omega@ZAMS_1', 'Omega@ZAMS_2', 'SEED', 'SN_Kick_Magnitude_Random_Number_1', 'SN_Kick_Magnitude_Random_Number_2', 'SN_Kick_Mean_Anomaly_1', 'SN_Kick_Mean_Anomaly_2', 'SN_Kick_Phi_1', 'SN_Kick_Phi_2', 'SN_Kick_Theta_1', 'SN_Kick_Theta_2', 'Separation@ZAMS', 'Sigma_Kick_CCSN_BH', 'Sigma_Kick_CCSN_NS', 'Sigma_Kick_ECSN', 'Sigma_Kick_USSN', 'Stellar_Type@ZAMS_1', 'Stellar_Type@ZAMS_2', 'Stellar_Type_1', 'Stellar_Type_2', 'Time', 'Unbound', 'WR_Multiplier']>\n"
     ]
    }
   ],
   "source": [
    "print(fdata['DoubleCompactObjects'].keys())\n",
    "\n",
    "print()\n",
    "\n",
    "print(fdata['SystemParameters'].keys())"
   ]
  },
  {
   "cell_type": "markdown",
   "id": "423ceab0",
   "metadata": {},
   "source": [
    "<div class=\"alert alert-block alert-success\"> \n",
    "\n",
    "#### The meaning of all parameters and files are described here https://compas.readthedocs.io/en/latest/pages/User%20guide/COMPAS%20output/standard-logfiles.html\n",
    "\n",
    "\n",
    "Now that we have the data, we can do some data investigation. Here is an example: \n",
    "    \n",
    "<div>"
   ]
  },
  {
   "cell_type": "markdown",
   "id": "ba04bf84",
   "metadata": {},
   "source": [
    "<div class=\"alert alert-block alert-warning\">\n",
    "    \n",
    "#### Question 0: check and write down the length of each of the datasets 'CommonEnvelopes', 'DoubleCompactObjects', 'Supernovae', 'SystemParameters' (i.e. the number of rows). If they are different why is this so? And do you expect the order of the sizes? "
   ]
  },
  {
   "cell_type": "code",
   "execution_count": null,
   "id": "7dc5f787",
   "metadata": {},
   "outputs": [],
   "source": []
  },
  {
   "cell_type": "code",
   "execution_count": null,
   "id": "2c6f7f25",
   "metadata": {},
   "outputs": [],
   "source": []
  },
  {
   "cell_type": "code",
   "execution_count": null,
   "id": "095110ad",
   "metadata": {},
   "outputs": [],
   "source": []
  },
  {
   "cell_type": "markdown",
   "id": "072e0427",
   "metadata": {},
   "source": [
    "<div class=\"alert alert-block alert-warning\">\n",
    "\n",
    "    \n",
    "## Example 1: plotting BH masses \n",
    "___\n",
    "below we show an example of how to obtain and plot the BH masses in the dataset \n",
    "\n"
   ]
  },
  {
   "cell_type": "code",
   "execution_count": 19,
   "id": "ec8de58c",
   "metadata": {},
   "outputs": [],
   "source": [
    "fDCO      = fdata['DoubleCompactObjects']\n",
    "\n",
    "\n",
    "M1 =  fDCO['Mass_1'][...].squeeze()  # mass in Msun of the compact object resulting from the primary\n",
    "M2 =  fDCO['Mass_2'][...].squeeze()  # mass in Msun of the compact object resulting from the secondary\n",
    "\n"
   ]
  },
  {
   "cell_type": "code",
   "execution_count": 5,
   "id": "6bfe4883",
   "metadata": {},
   "outputs": [
    {
     "data": {
      "image/png": "[encoded data removed]",
      "text/plain": [
       "<Figure size 720x720 with 1 Axes>"
      ]
     },
     "metadata": {
      "needs_background": "light"
     },
     "output_type": "display_data"
    }
   ],
   "source": [
    "f, ax= plt.subplots(1, 1,  figsize=(10,10)) \n",
    "\n",
    "plt.scatter(M1, M2)\n",
    "plt.xlabel('Mass of primary star [Msun]', fontsize=20)\n",
    "plt.ylabel('Mass of secondary star [Msun]', fontsize=20)\n",
    "plt.show()"
   ]
  },
  {
   "cell_type": "markdown",
   "id": "436606ad",
   "metadata": {},
   "source": [
    "<div class=\"alert alert-block alert-warning\">\n",
    "\n",
    "#### Question 1: can you explain the features in the plot above? E.g., where are the gaps, where are the most datapoints?\n"
   ]
  },
  {
   "cell_type": "code",
   "execution_count": null,
   "id": "11239fd8",
   "metadata": {},
   "outputs": [],
   "source": [
    "\n",
    "\n",
    "\n",
    "\n"
   ]
  },
  {
   "cell_type": "markdown",
   "id": "0eb180f2",
   "metadata": {},
   "source": [
    "<div class=\"alert alert-block alert-warning\">\n",
    "    \n",
    "#### Question 2: Using the parameters in the 'DoubleCompactObjects' dataset and the example above, try to make a scatter plot of Total Mass (M1+M2) versus orbital Period of the BBH systems that merge within a Hubble time (13.7 Gyr) \n",
    "    \n",
    "You will have to use the function below"
   ]
  },
  {
   "cell_type": "code",
   "execution_count": 17,
   "id": "bd4f8078",
   "metadata": {},
   "outputs": [],
   "source": [
    "\n",
    "def convert_a_to_P_circular(separation, M1, M2):\n",
    "    \"\"\"calculate Period from separation\n",
    "    separation is separation (needs to be given in astropy units)\n",
    "    M1 and M2 are masses of the binary\n",
    "    \n",
    "    \"\"\"\n",
    "    G = const.G # [gr cm s^2]\n",
    "    \n",
    "\n",
    "    mu = G*(M1+M2)\n",
    "    period = 2*np.pi * np.sqrt(separation**3/mu)\n",
    "    \n",
    "    \n",
    "    \n",
    "    return period     "
   ]
  },
  {
   "cell_type": "markdown",
   "id": "498125f0",
   "metadata": {},
   "source": [
    "<div class=\"alert alert-block alert-success\">\n",
    "    \n",
    "### Answer: "
   ]
  },
  {
   "cell_type": "markdown",
   "id": "0b40545d",
   "metadata": {},
   "source": [
    "f, ax= plt.subplots(1, 1,  figsize=(10,10)) \n",
    "\n",
    "\n",
    "separation =  fDCO['Separation@DCO'][...].squeeze()\n",
    "Period = convert_a_to_P_circular(separation, M1, M2)\n",
    "coalescence_time =  fDCO['Coalescence_Time'][...].squeeze() * u.Myr # Myr \n",
    "print(coalescence_time)\n",
    "t_Hubble = 13.7 *u.Gyr\n",
    "mask_tHubble = (coalescence_time < t_Hubble)\n",
    "\n",
    "plt.scatter((M1+M2)[mask_tHubble], Period[mask_tHubble])\n",
    "plt.xlabel('Mass of primary star [Msun]', fontsize=20)\n",
    "plt.ylabel('Period [day]', fontsize=20)\n",
    "plt.show()"
   ]
  },
  {
   "cell_type": "markdown",
   "id": "313fbeb9",
   "metadata": {},
   "source": [
    "<div class=\"alert alert-block alert-warning\">\n",
    "    \n",
    "#### Question 3: Why does the plot that you created look different compared to the figure 6 in https://arxiv.org/pdf/2010.00002.pdf? (you may ignore the metallicity axes) "
   ]
  },
  {
   "cell_type": "code",
   "execution_count": null,
   "id": "183a1e66",
   "metadata": {},
   "outputs": [],
   "source": []
  },
  {
   "cell_type": "markdown",
   "id": "8dd28cb8",
   "metadata": {},
   "source": [
    "<div class=\"alert alert-block alert-success\"> \n",
    "    \n",
    "## Selecting CHE binaries: \n",
    "    \n",
    "    \n",
    " For binaries, Stellar_Type@ZAMS(1) and Stellar_Type@ZAMS(2) will tell you the initial stellar type of each star - type 15 is CH.\n",
    "CH_on_MS(1) and CH_on_MS(2) are each true if the star remained as CH for the entire MS - they will be false if the star spun down and stopped being CH on the MS.  So any star that was initially CH, and stayed CH on the entire MS is considered to be CHE. We can check which of our binary black holes is a \"CHE\" by using this information stored in the 'systemParameters' file, and matching it with the double compact object files using the randomSeed.\n",
    "    "
   ]
  },
  {
   "cell_type": "code",
   "execution_count": null,
   "id": "19c203ee",
   "metadata": {},
   "outputs": [],
   "source": [
    "fsys      = fdata['SystemParameters']\n",
    "\n",
    "CH_on_MS_1 =  fsys['CH_on_MS_1'][...].squeeze()  # mass in Msun of the compact object resulting from the primary\n",
    "CH_on_MS_2 =  fsys['CH_on_MS_2'][...].squeeze()  # mass in Msun of the compact object resulting from the secondary\n",
    "Stellar_TypeZAMS_1  =  fsys['Stellar_Type@ZAMS_1'][...].squeeze()  # mass in Msun of the compact object resulting from the primary\n",
    "Stellar_TypeZAMS_2  =  fsys['Stellar_Type@ZAMS_2'][...].squeeze()  # mass in Msun of the compact object resulting from the secondary\n",
    "\n",
    "\n"
   ]
  },
  {
   "cell_type": "markdown",
   "id": "dfae4e68",
   "metadata": {},
   "source": [
    " # Extra material:"
   ]
  },
  {
   "cell_type": "code",
   "execution_count": null,
   "id": "e7bd46f5",
   "metadata": {},
   "outputs": [],
   "source": []
  }
 ],
 "metadata": {
  "kernelspec": {
   "display_name": "Python 3",
   "language": "python",
   "name": "python3"
  },
  "language_info": {
   "codemirror_mode": {
    "name": "ipython",
    "version": 3
   },
   "file_extension": ".py",
   "mimetype": "text/x-python",
   "name": "python",
   "nbconvert_exporter": "python",
   "pygments_lexer": "ipython3",
   "version": "3.7.4"
  }
 },
 "nbformat": 4,
 "nbformat_minor": 5
}
